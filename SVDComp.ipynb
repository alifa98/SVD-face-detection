{
 "cells": [
  {
   "cell_type": "code",
   "execution_count": 3,
   "metadata": {
    "scrolled": false
   },
   "outputs": [
    {
     "name": "stdout",
     "output_type": "stream",
     "text": [
      "Image By k = 5 Created. (Compress Ratio = 19.898% )\n",
      "Image By k = 30 Created. (Compress Ratio = 8.921% )\n",
      "Image By k = 55 Created. (Compress Ratio = 7.225% )\n",
      "Image By k = 80 Created. (Compress Ratio = 5.624% )\n",
      "Image By k = 105 Created. (Compress Ratio = 2.67% )\n"
     ]
    },
    {
     "data": {
      "image/png": "[encoded data removed]",
      "text/plain": [
       "<Figure size 432x288 with 1 Axes>"
      ]
     },
     "metadata": {
      "needs_background": "light"
     },
     "output_type": "display_data"
    }
   ],
   "source": [
    "import numpy as np\n",
    "import scipy.linalg as LA\n",
    "from PIL import Image\n",
    "import matplotlib.pyplot as plt\n",
    "\n",
    "\n",
    "im = Image.open('data/yalefaces/subject01.noglasses') ## 5th Image\n",
    "A = np.asarray(im.convert(\"L\"))\n",
    "\n",
    "K_ha = []\n",
    "Rate_ha = []\n",
    "\n",
    "pSize = np.sum(np.sum(A))\n",
    "\n",
    "for r in range(5, 106, 25):\n",
    "    \n",
    "    U, S, Vh = LA.svd(A)\n",
    "\n",
    "    sigma = np.zeros((243, 320))\n",
    "    for p in range(len(S)) :\n",
    "        sigma[p][p] = S[p]\n",
    "\n",
    "    Sk = sigma.copy()\n",
    "    for i in range(r):\n",
    "        Sk[i] = 0\n",
    "    Ssk = sigma - Sk\n",
    "    imgarr = U @ Ssk @ Vh\n",
    "    imgarr = imgarr.astype(np.uint8)\n",
    "    \n",
    "    CRatio = round(1 - ( (int( np.sum( np.sum(imgarr) ) ) ) / pSize),5)\n",
    "    \n",
    "    img = Image.fromarray(imgarr)\n",
    "    img.save(\"SVDCompout/k\"+str(r)+\".gif\")\n",
    "    print(\"Image By k = \"+str(r)+\" Created. (Compress Ratio = \"+str(CRatio * 100)+\"% )\")\n",
    "    \n",
    "    K_ha.append(r)   \n",
    "    Rate_ha.append(CRatio)\n",
    "plt.plot(K_ha,Rate_ha)\n",
    "plt.ylabel('Compression Ratio')\n",
    "plt.xlabel('K')\n",
    "plt.show()"
   ]
  },
  {
   "cell_type": "code",
   "execution_count": null,
   "metadata": {},
   "outputs": [],
   "source": []
  }
 ],
 "metadata": {
  "kernelspec": {
   "display_name": "Python 3",
   "language": "python",
   "name": "python3"
  },
  "language_info": {
   "codemirror_mode": {
    "name": "ipython",
    "version": 3
   },
   "file_extension": ".py",
   "mimetype": "text/x-python",
   "name": "python",
   "nbconvert_exporter": "python",
   "pygments_lexer": "ipython3",
   "version": "3.8.5"
  }
 },
 "nbformat": 4,
 "nbformat_minor": 2
}
