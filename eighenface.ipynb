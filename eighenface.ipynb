{
 "cells": [
  {
   "cell_type": "code",
   "execution_count": 2,
   "metadata": {
    "scrolled": true
   },
   "outputs": [
    {
     "name": "stdout",
     "output_type": "stream",
     "text": [
      "Eigen Faces Saved !\n"
     ]
    }
   ],
   "source": [
    "from PIL import Image\n",
    "import glob\n",
    "import numpy as np\n",
    "from scipy.linalg import eigh as largest_eigh\n",
    "image_list = []\n",
    "imSum = np.zeros( (243,320) )\n",
    "counter = 0\n",
    "for filename in glob.glob('data/yalefaces/*'):\n",
    "    im = Image.open(filename)\n",
    "    out = np.asarray(im.convert(\"L\"))\n",
    "    image_list.append(out)\n",
    "    imSum += out\n",
    "    counter += 1\n",
    "    \n",
    "mean = (1/counter) * imSum\n",
    "\n",
    "Q_list = []\n",
    "\n",
    "for i in image_list:\n",
    "    qi = i - mean\n",
    "    Q_list.append(qi)\n",
    "    \n",
    "QT_list = []\n",
    "\n",
    "for qi in Q_list:\n",
    "    qt = np.transpose(qi)\n",
    "    QT_list.append(qt)\n",
    "\n",
    "CoVar = np.zeros( (243,243) )\n",
    "for k in range(len(image_list)):\n",
    "    CoVar += Q_list[k] @ QT_list[k]\n",
    "\n",
    "CoVar = (1/counter) * CoVar\n",
    "\n",
    "w, V = largest_eigh(CoVar, eigvals = (237,242) ) # six largest eigen values and eigenvectors in ascending order :D\n",
    "\n",
    "eigenFace_list = []\n",
    "for i in range(6) :\n",
    "    fi = np.zeros( (243,320) )\n",
    "    for k in range(len(Q_list)) :\n",
    "        fi += V[k][i] * Q_list[k]\n",
    "    eigenFace_list.append(fi)\n",
    "\n",
    "i = 0\n",
    "for fi in eigenFace_list :\n",
    "    i += 1\n",
    "    img = Image.fromarray(fi)\n",
    "    img.save(\"eigenfaces/EigenFace\"+str(i)+\".gif\")\n",
    "print (\"Eigen Faces Saved !\")"
   ]
  },
  {
   "cell_type": "code",
   "execution_count": null,
   "metadata": {},
   "outputs": [],
   "source": []
  }
 ],
 "metadata": {
  "kernelspec": {
   "display_name": "Python 3",
   "language": "python",
   "name": "python3"
  },
  "language_info": {
   "codemirror_mode": {
    "name": "ipython",
    "version": 3
   },
   "file_extension": ".py",
   "mimetype": "text/x-python",
   "name": "python",
   "nbconvert_exporter": "python",
   "pygments_lexer": "ipython3",
   "version": "3.8.5"
  }
 },
 "nbformat": 4,
 "nbformat_minor": 2
}
